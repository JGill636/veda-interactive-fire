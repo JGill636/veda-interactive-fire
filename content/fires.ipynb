{
  "metadata": {
    "toc-showcode": false,
    "kernelspec": {
      "name": "python",
      "display_name": "Python (Pyodide)",
      "language": "python"
    },
    "language_info": {
      "codemirror_mode": {
        "name": "python",
        "version": 3
      },
      "file_extension": ".py",
      "mimetype": "text/x-python",
      "name": "python",
      "nbconvert_exporter": "python",
      "pygments_lexer": "ipython3",
      "version": "3.8"
    }
  },
  "nbformat_minor": 4,
  "nbformat": 4,
  "cells": [
    {
      "cell_type": "code",
      "source": "%pip install -q bqplot==0.12.40 ipyleaflet==0.17.3 ipywidgets==8.0.6 jupyterlab_widgets==3.0.7",
      "metadata": {},
      "execution_count": null,
      "outputs": []
    },
    {
      "cell_type": "markdown",
      "source": "# Recent fires\n\nShowing large fires that were burning when the fire atlas was last updated. Only includes fires with an area greater than 2. Testing making a change.\n\nYou can learn more about how to access [this data](https://firenrt.delta-backend.com/collections/public.eis_fire_snapshot_perimeter_nrt) directly in [this VEDA documentation page](https://nasa-impact.github.io/veda-docs/notebooks/tutorials/mapping-fires.html).",
      "metadata": {
        "tags": []
      }
    },
    {
      "cell_type": "code",
      "source": "import json\nimport urllib\n\nimport datetime as dt\nimport ipywidgets as widgets\nimport geopandas as gpd\nimport pandas as pd\n\nfrom js import fetch\n\nfrom bqplot import Lines, Figure, LinearScale, DateScale, Axis\n\nfrom ipyleaflet import Map, WidgetControl, GeoData, LayersControl",
      "metadata": {
        "tags": []
      },
      "execution_count": null,
      "outputs": []
    },
    {
      "cell_type": "code",
      "source": "URL = \"https://firenrt.delta-backend.com/collections/public.eis_fire_snapshot_perimeter_nrt\"\nres = await fetch(URL)\ntext = await res.text()\n\nmost_recent_time = json.loads(text)[\"extent\"][\"temporal\"][\"interval\"][0][1]",
      "metadata": {},
      "execution_count": null,
      "outputs": []
    },
    {
      "cell_type": "code",
      "source": "async def get_data(url):\n    response = await fetch(url)\n    text = await response.text()\n    result = json.loads(text)\n    assert result[\"numberMatched\"] == result[\"numberReturned\"], \"Increase the limit\"\n    return gpd.GeoDataFrame.from_features(result[\"features\"])",
      "metadata": {},
      "execution_count": null,
      "outputs": []
    },
    {
      "cell_type": "code",
      "source": "farea_min = 2\nduration_min = 0\n\n# get fires that were burning in the most recent 24 hours\nstart = (dt.datetime.fromisoformat(most_recent_time) - dt.timedelta(days=1)).isoformat()\ndatetime_interval = f\"{start}/..\"\n\nurl = (\n    'https://firenrt.delta-backend.com/'\n    'collections/public.eis_fire_snapshot_perimeter_nrt/items?'\n    f'datetime={urllib.parse.quote(datetime_interval)}&'\n    'limit=1000&'\n    f'filter=farea%3E{farea_min}+AND+duration%3E{duration_min}&'\n    'f=geojson'\n)\n\ndf = await get_data(url)",
      "metadata": {},
      "execution_count": null,
      "outputs": []
    },
    {
      "cell_type": "code",
      "source": "fireids = \",\".join(str(fireid) for fireid in df.fireid)\nurl = (\n    \"https://firenrt.delta-backend.com/collections/public.eis_fire_snapshot_fireline_nrt/items?\"\n    f\"filter=fireid+IN+({fireids})&\"\n    \"limit=1000\"\n)\nflines = await get_data(url)",
      "metadata": {},
      "execution_count": null,
      "outputs": []
    },
    {
      "cell_type": "code",
      "source": "def clean_data(data):\n    data.fireid = data.fireid.astype(str)\n    data.fireid = data.fireid.apply(lambda x: f'F{x}' if not x.startswith(\"F\") else x)\n    # data.t = pd.to_datetime(data.t)\n    data = data.sort_values(\"t\", ascending=False)\n    return data\n\ndf = clean_data(df)\nflines = clean_data(flines)\npins = df.copy()\npins[\"geometry\"] = df.geometry.representative_point()",
      "metadata": {},
      "execution_count": null,
      "outputs": []
    },
    {
      "cell_type": "code",
      "source": "fireids = \",\".join(f\"'{fireid}'\" for fireid in df.fireid)\nurl = (\n    \"https://firenrt.delta-backend.com/collections/public.eis_fire_lf_perimeter_nrt/items?\"\n    f\"filter=fireid+IN+({fireids})&\"\n    \"limit=1000\"\n)\nfires_df = await get_data(url)\nfires_df = clean_data(fires_df)\n\n# join this data with the current snapshot data\nfires_df = pd.concat([df.drop(columns=[\"isactive\"]), fires_df])\nfires_df = fires_df.drop_duplicates()",
      "metadata": {},
      "execution_count": null,
      "outputs": []
    },
    {
      "cell_type": "code",
      "source": "fireid = fires_df.fireid.value_counts().index[0]\ndata_name = 'farea'\n\ndata = fires_df\nsubset = data[data.fireid == fireid].sort_values(\"t\")\n\ny_data = subset[data_name].values\nx_data = pd.to_datetime(subset[\"t\"].values)\nt = x_data.max()",
      "metadata": {},
      "execution_count": null,
      "outputs": []
    },
    {
      "cell_type": "code",
      "source": "y_scale = LinearScale()\ndate_scale = DateScale()\n\nlines = Lines(x=x_data, y=y_data, scales={'x': date_scale, 'y': y_scale})\nv_lines = Lines(x=[t, t], y=[y_data.min(), y_data.max()], scales={'x': date_scale, 'y': y_scale}, colors=[\"red\"])\n\nax_x = Axis(label='Time', scale=date_scale)\nax_y = Axis(label=data_name.capitalize(), scale=y_scale, orientation='vertical', side='left')\n\nfigure = Figure(axes=[ax_x, ax_y], title=fireid, marks=[lines, v_lines], animation_duration=500,\n                layout={'max_height': '400px', 'width': '500px'})",
      "metadata": {},
      "execution_count": null,
      "outputs": []
    },
    {
      "cell_type": "code",
      "source": "def update_figure(fireid, data_name, t):\n    try:\n        subset = data[data.fireid == fireid].sort_values(\"t\")\n        y_data = subset[data_name].values\n        x_data = pd.to_datetime(subset[\"t\"].values)\n        lines.y = y_data\n        lines.x = x_data\n        v_lines.x = [t, t]\n        v_lines.y = [lines.y.min(), lines.y.max()]\n        ax_y.label = data_name.capitalize()\n        figure.title = fireid\n    except IndexError:\n        pass\n    \ndef update_y(fireid, data_name):\n    try:\n        subset = data[data.fireid == fireid].sort_values(\"t\")\n        lines.y = subset[data_name].values\n        v_lines.y = [lines.y.min(), lines.y.max()]\n        ax_y.label = data_name.capitalize()\n\n    except IndexError:\n        pass",
      "metadata": {},
      "execution_count": null,
      "outputs": []
    },
    {
      "cell_type": "code",
      "source": "m = Map(center=(39, -98), zoom=4, scroll_wheel_zoom=True)\n\nfarea_min = 5\nduration_min = 2\n\nm.layout.min_height=\"800px\"\n\ncurrent_points = GeoData(geo_dataframe=pins, name = 'Pins')\n\ncurrent_polygons = GeoData(\n    geo_dataframe=df, \n    style={'fillColor': 'red','color': 'red'}, \n    hover_style={'fillColor': 'black'}, \n    name='Current Perimeters'\n)\n\narchive_polygons = GeoData(\n    geo_dataframe=fires_df, \n    style={'color': 'black', \"fillOpacity\": 0}, \n    hover_style={'fillColor': 'black', \"fillOpacity\": 0.5}, \n    name='Archive Perimeters'\n)\n\nfline_paths = GeoData(\n    geo_dataframe=flines,\n    style={'color': 'orange'},\n    name='Fire Lines'\n)\n\nlayout = widgets.Layout(width = \"300px\")\nstyle = {'description_width': 'initial'}\n\nduration_min_control = widgets.FloatText(value=duration_min, min=0, step=.5, description='Minimum burn duration (days):', layout=layout, style=style)\nfarea_min_control = widgets.IntSlider(value=farea_min, min=0, step=5, max=100, description='Minimum fire area: ', layout=layout, style=style)\n\nout = widgets.Output(layout=layout)\n\ndropdown = widgets.Dropdown(\n    options=['farea', 'n_pixels', 'flinelen'],\n    value=data_name,\n    description='Plotting:'\n)\n\nm.add(current_points)\nm.add(current_polygons)\nm.add(archive_polygons)\nm.add(fline_paths)\nm.add(LayersControl())\nm.add(WidgetControl(widget=duration_min_control, position=\"topleft\"))\nm.add(WidgetControl(widget=farea_min_control, position=\"topleft\"))\nm.add(WidgetControl(widget=out, position=\"bottomleft\"))\nm.add(WidgetControl(widget=figure, position='bottomright'))\nm.add(WidgetControl(widget=dropdown, position='bottomright'))\n\ndef display_properties(feature, **kwargs):\n    out.clear_output()\n    with out:\n        display(pd.Series(feature[\"properties\"]))\n        \ndef on_hover(event, feature, **kwargs):\n    global fireid\n    global t\n    \n    fireid = feature['properties']['fireid']\n    t = pd.to_datetime(feature['properties']['t'])\n\n    update_figure(fireid, data_name, t)\n    display_properties(feature)\n    \n    \ndef on_dropdown(change):\n    global data_name\n\n    data_name = change['new']\n    update_y(fireid, data_name)\n\ndef filter_data():\n    global farea_min\n    global duration_min\n    \n    subset_idx = (df[\"farea\"] >= farea_min) & (df[\"duration\"] >= duration_min)\n    subset = df[subset_idx]\n    fireids = subset.fireid.unique().tolist()\n    flines_subset = flines[flines.fireid.isin(fireids)]\n    archive_subset = fires_df[fires_df.fireid.isin(fireids)]\n    \n    current_points.data = json.loads(pins[subset_idx].to_json())\n    current_polygons.data = json.loads(subset.to_json())\n    archive_polygons.data = json.loads(archive_subset.to_json())\n    fline_paths.data = json.loads(flines_subset.to_json())\n    \n\ndef on_change_farea(change):\n    global farea_min\n    \n    farea_min = change[\"new\"]\n    filter_data()\n\ndef on_change_duration(change):\n    global duration_min\n    \n    duration_min = change[\"new\"]\n    filter_data()\n\nfilter_data()\n\ndropdown.observe(on_dropdown, 'value')\ncurrent_polygons.on_hover(on_hover)\narchive_polygons.on_hover(on_hover)\ncurrent_points.on_click(on_hover)\nfarea_min_control.observe(on_change_farea, \"value\")\nduration_min_control.observe(on_change_duration, \"value\")\n\nm",
      "metadata": {},
      "execution_count": null,
      "outputs": []
    },
    {
      "cell_type": "markdown",
      "source": "⚠️ This visualization was created using a [jupyterlite-pyodide-kernel](https://github.com/jupyterlite/pyodide-kernel) and [voici](https://voici.readthedocs.io/en/latest/). It is rendered client-side (in your browser!) via the magic of [Wasm](https://webassembly.org/). This is an exciting and rapidly evolving space which means that this visualization is highly experimental and likely to break. ⚠️",
      "metadata": {}
    }
  ]
}