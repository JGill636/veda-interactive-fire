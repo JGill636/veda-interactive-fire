{
 "cells": [
  {
   "cell_type": "code",
   "execution_count": null,
   "metadata": {},
   "outputs": [],
   "source": [
    "%pip install -q bqplot==0.12.40 ipyleaflet==0.17.3 ipywidgets==8.0.6 jupyterlab_widgets==3.0.7"
   ]
  },
  {
   "attachments": {},
   "cell_type": "markdown",
   "metadata": {},
   "source": [
    "# Recent fires\n",
    "\n",
    "Showing large fires that were burning when the fire atlas was last updated. Only includes fires with an area greater than 5 and that have been burning for more than 2 days.  \n",
    "\n",
    "You can learn more about how to access [this data](https://firenrt.delta-backend.com/collections/public.eis_fire_snapshot_perimeter_nrt) directly in [this VEDA documentation page](https://nasa-impact.github.io/veda-docs/notebooks/tutorials/mapping-fires.html)."
   ]
  },
  {
   "cell_type": "code",
   "execution_count": null,
   "metadata": {
    "tags": []
   },
   "outputs": [],
   "source": [
    "\n",
    "import urllib\n",
    "import json\n",
    "\n",
    "import pandas as pd\n",
    "import geopandas as gpd\n",
    "\n",
    "from js import fetch\n",
    "\n",
    "from ipywidgets import Dropdown, Output\n",
    "\n",
    "from bqplot import Lines, Figure, LinearScale, DateScale, Axis\n",
    "\n",
    "from ipyleaflet import Map, WidgetControl, GeoData, LayersControl"
   ]
  },
  {
   "cell_type": "code",
   "execution_count": null,
   "metadata": {},
   "outputs": [],
   "source": [
    "URL = \"https://firenrt.delta-backend.com/collections/public.eis_fire_snapshot_perimeter_nrt\"\n",
    "res = await fetch(URL)\n",
    "text = await res.text()\n",
    "\n",
    "most_recent_time = json.loads(text)[\"extent\"][\"temporal\"][\"interval\"][0][1]"
   ]
  },
  {
   "cell_type": "code",
   "execution_count": null,
   "metadata": {},
   "outputs": [],
   "source": [
    "async def get_data(url):\n",
    "    response = await fetch(url)\n",
    "    text = await response.text()\n",
    "    result = json.loads(text)\n",
    "    assert result[\"numberMatched\"] == result[\"numberReturned\"], \"Increase the limit\"\n",
    "    return gpd.GeoDataFrame.from_features(result[\"features\"])"
   ]
  },
  {
   "cell_type": "code",
   "execution_count": null,
   "metadata": {},
   "outputs": [],
   "source": [
    "url = (\n",
    "    'https://firenrt.delta-backend.com/'\n",
    "    'collections/public.eis_fire_snapshot_perimeter_nrt/items?'\n",
    "    f'datetime={urllib.parse.quote(most_recent_time)}&'\n",
    "    'limit=1000&'\n",
    "    'filter=farea%3E5+AND+duration%3E2&'\n",
    "    'f=geojson'\n",
    ")\n",
    "\n",
    "df = await get_data(url)"
   ]
  },
  {
   "cell_type": "code",
   "execution_count": null,
   "metadata": {},
   "outputs": [],
   "source": [
    "fireids = \",\".join(str(fireid) for fireid in df.fireid)\n",
    "url = (\n",
    "    \"https://firenrt.delta-backend.com/collections/public.eis_fire_snapshot_fireline_nrt/items?\"\n",
    "    f\"filter=fireid+IN+({fireids})&\"\n",
    "    \"limit=1000\"\n",
    ")\n",
    "flines = await get_data(url)"
   ]
  },
  {
   "cell_type": "code",
   "execution_count": null,
   "metadata": {},
   "outputs": [],
   "source": [
    "def clean_data(data):\n",
    "    data.fireid = data.fireid.astype(str)\n",
    "    data.fireid = data.fireid.apply(lambda x: f'F{x}' if not x.startswith(\"F\") else x)\n",
    "    # data.t = pd.to_datetime(data.t)\n",
    "    data = data.sort_values(\"t\", ascending=False)\n",
    "    return data\n",
    "\n",
    "df = clean_data(df)\n",
    "flines = clean_data(flines)\n",
    "pins = df.copy()\n",
    "pins[\"geometry\"] = df.geometry.representative_point()"
   ]
  },
  {
   "cell_type": "code",
   "execution_count": null,
   "metadata": {},
   "outputs": [],
   "source": [
    "fireids = \",\".join(f\"'{fireid}'\" for fireid in df.fireid)\n",
    "url = (\n",
    "    \"https://firenrt.delta-backend.com/collections/public.eis_fire_lf_perimeter_nrt/items?\"\n",
    "    f\"filter=fireid+IN+({fireids})&\"\n",
    "    \"limit=1000\"\n",
    ")\n",
    "fires_df = await get_data(url)\n",
    "fires_df = clean_data(fires_df)"
   ]
  },
  {
   "cell_type": "code",
   "execution_count": null,
   "metadata": {},
   "outputs": [],
   "source": [
    "fireid = df.fireid[0]\n",
    "data_name = 'farea'\n",
    "\n",
    "data = fires_df\n",
    "subset = data[data.fireid == fireid].sort_values(\"t\")\n",
    "\n",
    "y_data = subset[data_name].values\n",
    "x_data = pd.to_datetime(subset[\"t\"].values)\n",
    "t = x_data.max()"
   ]
  },
  {
   "cell_type": "code",
   "execution_count": null,
   "metadata": {},
   "outputs": [],
   "source": [
    "y_scale = LinearScale()\n",
    "date_scale = DateScale()\n",
    "\n",
    "lines = Lines(x=x_data, y=y_data, scales={'x': date_scale, 'y': y_scale})\n",
    "v_lines = Lines(x=[t, t], y=[y_data.min(), y_data.max()], scales={'x': date_scale, 'y': y_scale}, colors=[\"red\"])\n",
    "\n",
    "ax_x = Axis(label='Time', scale=date_scale)\n",
    "ax_y = Axis(label=data_name.capitalize(), scale=y_scale, orientation='vertical', side='left')\n",
    "\n",
    "figure = Figure(axes=[ax_x, ax_y], title=fireid, marks=[lines, v_lines], animation_duration=500,\n",
    "                layout={'max_height': '400px', 'width': '500px'})"
   ]
  },
  {
   "cell_type": "code",
   "execution_count": null,
   "metadata": {},
   "outputs": [],
   "source": [
    "def update_figure(fireid, data_name, t):\n",
    "    try:\n",
    "        subset = data[data.fireid == fireid].sort_values(\"t\")\n",
    "        y_data = subset[data_name].values\n",
    "        x_data = pd.to_datetime(subset[\"t\"].values)\n",
    "        lines.y = y_data\n",
    "        lines.x = x_data\n",
    "        v_lines.x = [t, t]\n",
    "        v_lines.y = [lines.y.min(), lines.y.max()]\n",
    "        ax_y.label = data_name.capitalize()\n",
    "        figure.title = fireid\n",
    "    except IndexError:\n",
    "        pass\n",
    "    \n",
    "def update_y(fireid, data_name):\n",
    "    try:\n",
    "        subset = data[data.fireid == fireid].sort_values(\"t\")\n",
    "        lines.y = subset[data_name].values\n",
    "        v_lines.y = [lines.y.min(), lines.y.max()]\n",
    "        ax_y.label = data_name.capitalize()\n",
    "\n",
    "    except IndexError:\n",
    "        pass"
   ]
  },
  {
   "cell_type": "code",
   "execution_count": null,
   "metadata": {},
   "outputs": [],
   "source": [
    "m = Map(center=(39, -98), zoom=4, scroll_wheel_zoom=True)\n",
    "\n",
    "m.layout.min_height=\"800px\"\n",
    "\n",
    "current_points = GeoData(geo_dataframe=pins, name = 'Pins')\n",
    "\n",
    "current_polygons = GeoData(\n",
    "    geo_dataframe=df, \n",
    "    style={'fillColor': 'red','color': 'red'}, \n",
    "    hover_style={'fillColor': 'black'}, \n",
    "    name='Current Perimeters'\n",
    ")\n",
    "\n",
    "archive_polygons = GeoData(\n",
    "    geo_dataframe=fires_df, \n",
    "    style={'color': 'black', \"fillOpacity\": 0}, \n",
    "    hover_style={'fillColor': 'black', \"fillOpacity\": 0.5}, \n",
    "    name='Archive Perimeters'\n",
    ")\n",
    "\n",
    "fline_paths = GeoData(\n",
    "    geo_dataframe=flines,\n",
    "    style={'color': 'orange'},\n",
    "    name='Fire Lines'\n",
    ")\n",
    "\n",
    "out = Output()\n",
    "out.layout.width = \"300px\"\n",
    "\n",
    "dropdown = Dropdown(\n",
    "    options=['farea', 'n_pixels', 'flinelen'],\n",
    "    value=data_name,\n",
    "    description='Plotting:'\n",
    ")\n",
    "\n",
    "m.add(current_points)\n",
    "m.add(current_polygons)\n",
    "m.add(archive_polygons)\n",
    "m.add(fline_paths)\n",
    "m.add(LayersControl())\n",
    "m.add(WidgetControl(widget=out, position=\"bottomleft\"))\n",
    "m.add(WidgetControl(widget=figure, position='bottomright'))\n",
    "m.add(WidgetControl(widget=dropdown, position='topright'))\n",
    "\n",
    "def display_properties(feature, **kwargs):\n",
    "    out.clear_output()\n",
    "    with out:\n",
    "        display(pd.Series(feature[\"properties\"]))\n",
    "        \n",
    "def on_hover(event, feature, **kwargs):\n",
    "    global fireid\n",
    "    global t\n",
    "    \n",
    "    fireid = feature['properties']['fireid']\n",
    "    t = pd.to_datetime(feature['properties']['t'])\n",
    "\n",
    "    update_figure(fireid, data_name, t)\n",
    "    display_properties(feature)\n",
    "    \n",
    "    \n",
    "def on_dropdown(change):\n",
    "    global data_name\n",
    "\n",
    "    data_name = change['new']\n",
    "    update_y(fireid, data_name)\n",
    "\n",
    "dropdown.observe(on_dropdown, 'value')\n",
    "current_polygons.on_hover(on_hover)\n",
    "archive_polygons.on_hover(on_hover)\n",
    "current_points.on_click(on_hover)\n",
    "\n",
    "m"
   ]
  },
  {
   "attachments": {},
   "cell_type": "markdown",
   "metadata": {},
   "source": [
    "⚠️ This visualization was created using a [jupyterlite-pyodide-kernel](https://github.com/jupyterlite/pyodide-kernel) and [voici](https://voici.readthedocs.io/en/latest/). It is rendered client-side (in your browser!) via the magic of [Wasm](https://webassembly.org/). This is an exciting and rapidly evolving space which means that this visualization is highly experimental and likely to break. ⚠️"
   ]
  }
 ],
 "metadata": {
  "kernelspec": {
   "display_name": "Python 3 (ipykernel)",
   "language": "python",
   "name": "python3"
  },
  "language_info": {
   "codemirror_mode": {
    "name": "ipython",
    "version": 3
   },
   "file_extension": ".py",
   "mimetype": "text/x-python",
   "name": "python",
   "nbconvert_exporter": "python",
   "pygments_lexer": "ipython3",
   "version": "3.10.12"
  },
  "toc-showcode": false
 },
 "nbformat": 4,
 "nbformat_minor": 4
}
